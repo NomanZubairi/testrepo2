{
 "cells": [
  {
   "cell_type": "code",
   "execution_count": 1,
   "id": "b0477286-bea1-4656-8e96-a76f7110feec",
   "metadata": {},
   "outputs": [],
   "source": [
    "import pandas as pd"
   ]
  },
  {
   "cell_type": "code",
   "execution_count": 4,
   "id": "0e1255c8-81fd-4735-bafb-18982e8689dc",
   "metadata": {},
   "outputs": [
    {
     "name": "stdout",
     "output_type": "stream",
     "text": [
      "The total value of the two stocks is 232.79.\n"
     ]
    }
   ],
   "source": [
    "def stocks(stock1, stock2):\n",
    "      sum = stock1 + stock2\n",
    "      return sum\n",
    "\n",
    "sum = stocks(45.23, 187.56)\n",
    "print(f\"The total value of the two stocks is {sum}.\")"
   ]
  },
  {
   "cell_type": "code",
   "execution_count": null,
   "id": "4cb57f42-ba48-458c-8825-62732428b9f2",
   "metadata": {},
   "outputs": [],
   "source": []
  }
 ],
 "metadata": {
  "kernelspec": {
   "display_name": "Python 3 (ipykernel)",
   "language": "python",
   "name": "python3"
  },
  "language_info": {
   "codemirror_mode": {
    "name": "ipython",
    "version": 3
   },
   "file_extension": ".py",
   "mimetype": "text/x-python",
   "name": "python",
   "nbconvert_exporter": "python",
   "pygments_lexer": "ipython3",
   "version": "3.7.11"
  }
 },
 "nbformat": 4,
 "nbformat_minor": 5
}
